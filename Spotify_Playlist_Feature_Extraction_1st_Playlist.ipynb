{
 "cells": [
  {
   "cell_type": "markdown",
   "metadata": {},
   "source": [
    "<h1><center>Spotify Data Scraping</center></h1>\n",
    "\n",
    "In this article, we will learn about {Glossary- **Web scraping**}. To accomplish this task, we will use the very popular music streaming app Spotify. During this article, we will learn how to **scrape data from Spotify**. Our aim through this  hands-on experience of web scraping is to **fetch the information of all the tracks in spotify playlists**. We can obtain the information of tracks of any playlist, we only need to have **URI (Uniform Resource Identifier) of a playlist**. \n",
    "\n",
    "This scraping will be facilitated by the <b>Web API of Spotify</b>, known as **Spotipy**.\n",
    "\n",
    "For availing the services of **spotipy**, user requires two credential keys, which are **credential_id** and **credential_secret**. These two keys are unique for each user and helps spotify in identifying the users of their Web API. In the following part of this article, I will walkthrough the steps on how to create these two unique keys through spotify developers account with the help of screenshots.\n",
    "\n",
    "\n",
    "<h2>Generating Authorizing Keys</h2>\n",
    "\n",
    "<ul>\n",
    "    <h3>Step 1: Creating Spotify Developers Account</h3><br><br>\n",
    "    <center><img src=\"image_1.png\" height=600 width=600><br><br></center>\n",
    "    <center>---------------------------------------------------------------------</center>\n",
    "    <center><img src=\"image_2.png\" height=400 width=400><br><br></center>\n",
    "    <center>---------------------------------------------------------------------</center>\n",
    "    <center><img src=\"image_3.png\" height=400 width=400><br><br></center>\n",
    "    <center>---------------------------------------------------------------------</center>\n",
    "    For creating an account on <a href=\"https://developer.spotify.com/dashboard/\">spotify developers website</a>, you can either use your existing spotify account which you use for listening music, otherwise you can sign up using your facebook account or through your mail id.\n",
    "    \n",
    "   <h3>Step 2: Creating a New App</h3>\n",
    "   After creating the account and logging in, you will find a screen as shown below.\n",
    "   <img src=\"image_4.png\" height=600 width=600><br><br>\n",
    "   <center>---------------------------------------------------------------------</center>\n",
    "   The next thing which we have to do is to create a new app by either clicking on <b>create client id</b> button or by clicking on <b>create new app</b> button. \n",
    "   <img src=\"image_5.png\" height=200 width=200><br><br>\n",
    "   After this, spotify asks some basic questions regarding our new app. After this, you have to tell Spotify whether you will use the app for any monetary advantages i.e. whether the app is commerical or not. It is advised to choose the non-commerical option. Lastly, we need to agree to some permissions and agreements.\n",
    "   <img src=\"image_6.png\" height=250 width=250><br><br>\n",
    "   <center>---------------------------------------------------------------------</center>\n",
    "   <img src=\"image_7.png\" height=250 width=250><br><br>\n",
    "   <center>---------------------------------------------------------------------</center>\n",
    "   \n",
    "   <h3>Step 3: Obtaining Client Id and Client Secret Keys</h3>\n",
    "   <img src=\"image_8.png\" height=800 width=800><br><br>\n",
    "   <center>---------------------------------------------------------------------</center>\n",
    "   Once the app is created, we will be able to see a dashboard where along with the name of our app and description, below the description we will find <b>32 character long alphanumeric</b> <b>Client Id</b> and below this will get the 32 character long alphanumeric <b>Client Secret</b>. So this was the aim of the walkthrough, we have obtained the two keys required for authorizing the usage of spotify Web API.\n",
    "\n",
    "</ul>\n",
    "\n",
    "**NOTE** - Remember not to use the keys visible in the above image, as mentioned earlier these are unique keys and thus you'll be required to create them for your app, otherwise you may encounter error.\n",
    "\n",
    "Now it's time to start our hands-on practical example where we will **fetch the playlists data and track information using spotipy**. \n",
    "\n",
    "## Importing libraries and authorization credentials\n",
    "Initially, we need to load the necessary libraries and credential files. "
   ]
  },
  {
   "cell_type": "code",
   "execution_count": 21,
   "metadata": {},
   "outputs": [],
   "source": [
    "import spotipy\n",
    "from spotipy.oauth2 import SpotifyClientCredentials\n",
    "import json"
   ]
  },
  {
   "cell_type": "markdown",
   "metadata": {},
   "source": [
    "For better access to credential keys, We will load these **authorizational keys in a .json file, simplifying the process of fetching**. \n",
    "\n",
    "Below code shows how you can add the two keys in the **authorization.json** file."
   ]
  },
  {
   "cell_type": "markdown",
   "metadata": {},
   "source": [
    "#### Contents of Authorization.json\n",
    "\n",
    "Remember the below keys are for represential purpose, you are required to create your own client id and client secret on the spotify developers account."
   ]
  },
  {
   "cell_type": "code",
   "execution_count": 22,
   "metadata": {},
   "outputs": [
    {
     "data": {
      "text/plain": [
       "{'client_id': '5e9a80618b284145b54bb1f7df94bb6c',\n",
       " 'client_secret': '0cdef7160e4143118e48abdd939668e8'}"
      ]
     },
     "execution_count": 22,
     "metadata": {},
     "output_type": "execute_result"
    }
   ],
   "source": [
    "{\"client_id\": \"5e9a80618b284145b54bb1f7df94bb6c\",\n",
    "\"client_secret\": \"0cdef7160e4143118e48abdd939668e8\"}"
   ]
  },
  {
   "cell_type": "markdown",
   "metadata": {},
   "source": [
    "In another  **playlists_like_dislike.json** file, We have mentioned the **URI (Uniform Resource Identifier)** of the playlists. This file will help in managing the URI of multiple playlists. As informed earlier, URI helps in identifying different playlists on spotify.\n",
    "\n",
    "One of the features of **playlists_like_dislike.json** file is the **like** attribute which takes boolean value. Using this boolean value, we can tell which **playlists songs a user likes or dislikes**. If **true**, the user **likes all the songs** of playlist and if **false**, the user **dislikes all the songs** of playlist. \n",
    "\n",
    "We can see below how the playlists URI should be mentioned along with the **like** parameter.\n",
    "\n",
    "**NOTE** - You can fetch data of upto **99 songs in a single connection session**. Now these 99 songs can be divided into different playlists or can be present in a single playlist. If you will try to fetch information of more than 99 songs in a single connection session, then you will encounter error and you will not be able to fetch the data, as per Spotify's policy."
   ]
  },
  {
   "cell_type": "markdown",
   "metadata": {},
   "source": [
    "#### Contents of Playlists_like_dislike.json \n",
    "\n",
    "[\n",
    "    {\"uri\": \"spotify:user:Test_1:playlist:27rVIOLKlIKAg63whXrAzz\",\n",
    "    \"like\": true},\n",
    "    {\"uri\": \"spotify:user:Test_2:playlist:6WjtPvXBC2iSO24VsfBpnc\",\n",
    "    \"like\": false}\n",
    "]"
   ]
  },
  {
   "cell_type": "markdown",
   "metadata": {},
   "source": [
    "<img src=\"image_9a.png\" height=600 width=600><br><br>\n",
    "<center>---------------------------------------------------------------------</center>\n",
    "\n",
    "In the above image, you can see the location from where you can obtain the URI of a particular playlist, in case of **Spotify desktop app**. You have to click at these three dots and then you can copy the URI of desired playlist. Here playlist link and Spotify URI contain the same link. So you can copy any of these. The URI is **20 character long alphanumeric code** which is present at the end of the link.\n",
    "\n",
    "The below image is an example of web app of Spotify, so if you are using the web app, then you will see something as shown below.\n",
    "\n",
    "<img src=\"image_10.png\" height=600 width=600><br><br>\n",
    "<center>---------------------------------------------------------------------</center>\n",
    "\n",
    "This URI will help while communicating with spotify API and also in fetching the correct information of the songs present in the playlists.\n",
    "\n",
    "Along with this, there can be multiple playlists in a single .json file, so to access each playlist, indexing is used and here, **0th** index playlist is accessed using below code. "
   ]
  },
  {
   "cell_type": "code",
   "execution_count": 23,
   "metadata": {},
   "outputs": [],
   "source": [
    "credentials = json.load(open('authorization.json'))\n",
    "client_id = credentials['client_id']\n",
    "client_secret = credentials['client_secret']\n",
    "\n",
    "playlist_index = 0\n",
    "\n",
    "playlists = json.load(open('playlists_like_dislike.json'))\n",
    "playlist_uri = playlists[playlist_index]['uri']\n",
    "like = playlists[playlist_index]['like']"
   ]
  },
  {
   "cell_type": "code",
   "execution_count": 24,
   "metadata": {},
   "outputs": [],
   "source": [
    "client_credentials_manager = SpotifyClientCredentials(client_id=client_id,client_secret=client_secret)\n",
    "\n",
    "sp = spotipy.Spotify(client_credentials_manager=client_credentials_manager)"
   ]
  },
  {
   "cell_type": "markdown",
   "metadata": {},
   "source": [
    "## Information of tracks in playlist\n",
    "\n",
    "For obtaining the **username and playlist_id**, we are using the **:**  as an identifier. These unique id's help in getting the tracks of each playlist."
   ]
  },
  {
   "cell_type": "code",
   "execution_count": 25,
   "metadata": {},
   "outputs": [],
   "source": [
    "uri = playlist_uri    # the URI is split by ':' to get the username and playlist ID\n",
    "username = uri.split(':')[2]\n",
    "playlist_id = uri.split(':')[4]"
   ]
  },
  {
   "cell_type": "code",
   "execution_count": 26,
   "metadata": {},
   "outputs": [],
   "source": [
    "results = sp.user_playlist(username, playlist_id, 'tracks')"
   ]
  },
  {
   "cell_type": "markdown",
   "metadata": {},
   "source": [
    "## Fetching details of track like ID's, Titles and Artists\n",
    "\n",
    "Here data for each playlist is collected in the form of dictionary. The keys of this dictionary contains track information. We will use **list datatype for adding data like ID's, Titles and Artists.** \n",
    "\n",
    "Artists mentioned are the primary artists in the each track.\n",
    "\n",
    "In the below mentioned **for** loop, we are going over each track of a playlist and adding the track Id, name and artist information to the dataframe of tracks."
   ]
  },
  {
   "cell_type": "code",
   "execution_count": 27,
   "metadata": {},
   "outputs": [],
   "source": [
    "playlist_tracks_data = results['tracks']\n",
    "playlist_tracks_id = []\n",
    "playlist_tracks_titles = []\n",
    "playlist_tracks_artists = []\n",
    "playlist_tracks_first_artists = []\n",
    "\n",
    "for track in playlist_tracks_data['items']:\n",
    "    playlist_tracks_id.append(track['track']['id'])\n",
    "    playlist_tracks_titles.append(track['track']['name'])\n",
    "    # adds a list of all artists involved in the song to the list of artists for the playlist\n",
    "    artist_list = []\n",
    "    for artist in track['track']['artists']:\n",
    "        artist_list.append(artist['name'])\n",
    "    playlist_tracks_artists.append(artist_list)\n",
    "    playlist_tracks_first_artists.append(artist_list[0])"
   ]
  },
  {
   "cell_type": "markdown",
   "metadata": {},
   "source": [
    "## Extracting Audio Features of each track\n",
    "\n",
    "Spotify has a unique attribute of providing information about the features of song available on their platform. There are various features like danceability, energy, tempo, and many more. You can have a look at them <a href=\"https://developer.spotify.com/documentation/web-api/reference/tracks/get-several-audio-features/\">here</a>. After fetching these audio features, they will be stored in a dataframe."
   ]
  },
  {
   "cell_type": "code",
   "execution_count": 28,
   "metadata": {},
   "outputs": [],
   "source": [
    "features = sp.audio_features(playlist_tracks_id)"
   ]
  },
  {
   "cell_type": "code",
   "execution_count": 29,
   "metadata": {},
   "outputs": [],
   "source": [
    "import numpy as np\n",
    "import pandas as pd"
   ]
  },
  {
   "cell_type": "code",
   "execution_count": 30,
   "metadata": {},
   "outputs": [],
   "source": [
    "features_df = pd.DataFrame(data=features, columns=features[0].keys())"
   ]
  },
  {
   "cell_type": "markdown",
   "metadata": {},
   "source": [
    "## Merging Dataframes for getting audio features and track information\n",
    "\n",
    "Now the dataframe of audio features must be merged with title and artist information. We will also reorder the dataframe for better accessiblity."
   ]
  },
  {
   "cell_type": "code",
   "execution_count": 39,
   "metadata": {},
   "outputs": [
    {
     "data": {
      "text/html": [
       "<div>\n",
       "<style scoped>\n",
       "    .dataframe tbody tr th:only-of-type {\n",
       "        vertical-align: middle;\n",
       "    }\n",
       "\n",
       "    .dataframe tbody tr th {\n",
       "        vertical-align: top;\n",
       "    }\n",
       "\n",
       "    .dataframe thead th {\n",
       "        text-align: right;\n",
       "    }\n",
       "</style>\n",
       "<table border=\"1\" class=\"dataframe\">\n",
       "  <thead>\n",
       "    <tr style=\"text-align: right;\">\n",
       "      <th></th>\n",
       "      <th>id</th>\n",
       "      <th>title</th>\n",
       "      <th>first_artist</th>\n",
       "      <th>all_artists</th>\n",
       "      <th>danceability</th>\n",
       "      <th>energy</th>\n",
       "      <th>key</th>\n",
       "      <th>loudness</th>\n",
       "      <th>mode</th>\n",
       "      <th>acousticness</th>\n",
       "      <th>instrumentalness</th>\n",
       "      <th>liveness</th>\n",
       "      <th>valence</th>\n",
       "      <th>tempo</th>\n",
       "      <th>duration_ms</th>\n",
       "      <th>time_signature</th>\n",
       "    </tr>\n",
       "  </thead>\n",
       "  <tbody>\n",
       "    <tr>\n",
       "      <th>94</th>\n",
       "      <td>5IF6IBPqbclVR7SQKmCIyA</td>\n",
       "      <td>Just Like You</td>\n",
       "      <td>Louis Tomlinson</td>\n",
       "      <td>[Louis Tomlinson]</td>\n",
       "      <td>0.703</td>\n",
       "      <td>0.628</td>\n",
       "      <td>0</td>\n",
       "      <td>-5.914</td>\n",
       "      <td>1</td>\n",
       "      <td>0.36400</td>\n",
       "      <td>0.000000</td>\n",
       "      <td>0.384</td>\n",
       "      <td>0.471</td>\n",
       "      <td>138.032</td>\n",
       "      <td>205217</td>\n",
       "      <td>4</td>\n",
       "    </tr>\n",
       "    <tr>\n",
       "      <th>95</th>\n",
       "      <td>2UCI5rt3PkM9pXtARihaaQ</td>\n",
       "      <td>Bedroom Floor</td>\n",
       "      <td>Liam Payne</td>\n",
       "      <td>[Liam Payne]</td>\n",
       "      <td>0.625</td>\n",
       "      <td>0.684</td>\n",
       "      <td>1</td>\n",
       "      <td>-7.147</td>\n",
       "      <td>1</td>\n",
       "      <td>0.34200</td>\n",
       "      <td>0.000064</td>\n",
       "      <td>0.107</td>\n",
       "      <td>0.217</td>\n",
       "      <td>119.932</td>\n",
       "      <td>188234</td>\n",
       "      <td>4</td>\n",
       "    </tr>\n",
       "    <tr>\n",
       "      <th>96</th>\n",
       "      <td>2kqAtjOtQPAR0OiYUJR43k</td>\n",
       "      <td>Can We Dance</td>\n",
       "      <td>The Vamps</td>\n",
       "      <td>[The Vamps]</td>\n",
       "      <td>0.640</td>\n",
       "      <td>0.820</td>\n",
       "      <td>1</td>\n",
       "      <td>-4.729</td>\n",
       "      <td>0</td>\n",
       "      <td>0.00312</td>\n",
       "      <td>0.000000</td>\n",
       "      <td>0.189</td>\n",
       "      <td>0.583</td>\n",
       "      <td>130.108</td>\n",
       "      <td>192711</td>\n",
       "      <td>4</td>\n",
       "    </tr>\n",
       "    <tr>\n",
       "      <th>97</th>\n",
       "      <td>3wGCtxNjZe3GrZfkojZ1FB</td>\n",
       "      <td>I'm a Mess</td>\n",
       "      <td>Jasmine</td>\n",
       "      <td>[Jasmine]</td>\n",
       "      <td>0.636</td>\n",
       "      <td>0.487</td>\n",
       "      <td>11</td>\n",
       "      <td>-7.123</td>\n",
       "      <td>0</td>\n",
       "      <td>0.09460</td>\n",
       "      <td>0.000000</td>\n",
       "      <td>0.111</td>\n",
       "      <td>0.647</td>\n",
       "      <td>97.022</td>\n",
       "      <td>190500</td>\n",
       "      <td>4</td>\n",
       "    </tr>\n",
       "    <tr>\n",
       "      <th>98</th>\n",
       "      <td>3jnQF0OxLiAEFFcMdBgJ9s</td>\n",
       "      <td>Oh Cecilia (Breaking My Heart)</td>\n",
       "      <td>The Vamps</td>\n",
       "      <td>[The Vamps]</td>\n",
       "      <td>0.746</td>\n",
       "      <td>0.844</td>\n",
       "      <td>11</td>\n",
       "      <td>-5.506</td>\n",
       "      <td>1</td>\n",
       "      <td>0.03150</td>\n",
       "      <td>0.000000</td>\n",
       "      <td>0.318</td>\n",
       "      <td>0.662</td>\n",
       "      <td>100.027</td>\n",
       "      <td>196684</td>\n",
       "      <td>4</td>\n",
       "    </tr>\n",
       "  </tbody>\n",
       "</table>\n",
       "</div>"
      ],
      "text/plain": [
       "                        id                           title     first_artist  \\\n",
       "94  5IF6IBPqbclVR7SQKmCIyA                   Just Like You  Louis Tomlinson   \n",
       "95  2UCI5rt3PkM9pXtARihaaQ                   Bedroom Floor       Liam Payne   \n",
       "96  2kqAtjOtQPAR0OiYUJR43k                    Can We Dance        The Vamps   \n",
       "97  3wGCtxNjZe3GrZfkojZ1FB                      I'm a Mess          Jasmine   \n",
       "98  3jnQF0OxLiAEFFcMdBgJ9s  Oh Cecilia (Breaking My Heart)        The Vamps   \n",
       "\n",
       "          all_artists  danceability  energy  key  loudness  mode  \\\n",
       "94  [Louis Tomlinson]         0.703   0.628    0    -5.914     1   \n",
       "95       [Liam Payne]         0.625   0.684    1    -7.147     1   \n",
       "96        [The Vamps]         0.640   0.820    1    -4.729     0   \n",
       "97          [Jasmine]         0.636   0.487   11    -7.123     0   \n",
       "98        [The Vamps]         0.746   0.844   11    -5.506     1   \n",
       "\n",
       "    acousticness  instrumentalness  liveness  valence    tempo  duration_ms  \\\n",
       "94       0.36400          0.000000     0.384    0.471  138.032       205217   \n",
       "95       0.34200          0.000064     0.107    0.217  119.932       188234   \n",
       "96       0.00312          0.000000     0.189    0.583  130.108       192711   \n",
       "97       0.09460          0.000000     0.111    0.647   97.022       190500   \n",
       "98       0.03150          0.000000     0.318    0.662  100.027       196684   \n",
       "\n",
       "    time_signature  \n",
       "94               4  \n",
       "95               4  \n",
       "96               4  \n",
       "97               4  \n",
       "98               4  "
      ]
     },
     "execution_count": 39,
     "metadata": {},
     "output_type": "execute_result"
    }
   ],
   "source": [
    "features_df['title'] = playlist_tracks_titles\n",
    "features_df['first_artist'] = playlist_tracks_first_artists\n",
    "features_df['all_artists'] = playlist_tracks_artists\n",
    "#features_df = features_df.set_index('id')\n",
    "features_df = features_df[['id', 'title', 'first_artist', 'all_artists',\n",
    "                           'danceability', 'energy', 'key', 'loudness',\n",
    "                           'mode', 'acousticness', 'instrumentalness',\n",
    "                           'liveness', 'valence', 'tempo',\n",
    "                           'duration_ms', 'time_signature']]\n",
    "features_df.tail()"
   ]
  },
  {
   "cell_type": "markdown",
   "metadata": {},
   "source": [
    "## Data Exploration\n",
    "\n",
    "To understand the scraped data in a better way, we will perform **data exploration with the help of visualization**."
   ]
  },
  {
   "cell_type": "code",
   "execution_count": 32,
   "metadata": {},
   "outputs": [],
   "source": [
    "import matplotlib.pyplot as plt\n",
    "import seaborn as sns\n",
    "%matplotlib inline"
   ]
  },
  {
   "cell_type": "markdown",
   "metadata": {},
   "source": [
    "The following **count plot** will tell which **artists have most number of songs** in the playlist."
   ]
  },
  {
   "cell_type": "code",
   "execution_count": 33,
   "metadata": {},
   "outputs": [
    {
     "data": {
      "text/plain": [
       "(array([ 0,  1,  2,  3,  4,  5,  6,  7,  8,  9, 10, 11, 12, 13, 14, 15, 16,\n",
       "        17, 18, 19, 20, 21, 22, 23, 24, 25, 26, 27, 28, 29, 30, 31, 32, 33,\n",
       "        34, 35, 36, 37, 38, 39, 40, 41, 42, 43, 44, 45, 46, 47, 48, 49, 50,\n",
       "        51, 52, 53, 54, 55, 56, 57, 58]),\n",
       " <a list of 59 Text xticklabel objects>)"
      ]
     },
     "execution_count": 33,
     "metadata": {},
     "output_type": "execute_result"
    },
    {
     "data": {
      "image/png": "[encoded data removed]",
      "text/plain": [
       "<Figure size 1440x2160 with 1 Axes>"
      ]
     },
     "metadata": {
      "needs_background": "light"
     },
     "output_type": "display_data"
    }
   ],
   "source": [
    "plt.figure(figsize=(20,30))\n",
    "sns.countplot(features_df['first_artist'])\n",
    "plt.xticks(rotation=90)"
   ]
  },
  {
   "cell_type": "code",
   "execution_count": 34,
   "metadata": {},
   "outputs": [],
   "source": [
    "#features_df = features_df.drop(['first_artist', 'all_artists'], axis=1)"
   ]
  },
  {
   "cell_type": "markdown",
   "metadata": {},
   "source": [
    "## Spotify Audio Analysis\n",
    "\n",
    "Spotify provides the feature where a song can be analysed on the basis of bars, beats, sections, tatum and segments in the song. You can learn more about these attributes from <a href=\"https://developer.spotify.com/documentation/web-api/reference/tracks/get-audio-analysis/\">here</a>.Since beats and tatums represent the same information in scaled form depicted by bars, we will only consider bars, sections and segments. \n",
    "\n",
    "**NOTE** - These attributes of each audio track provides in-depth technical information and thus it takes time in processing and fetching. So some time will be spent here in fetching all the information. The output **retrying ...** is the default message displayed by Spotipy for informing the user."
   ]
  },
  {
   "cell_type": "code",
   "execution_count": 35,
   "metadata": {},
   "outputs": [
    {
     "name": "stdout",
     "output_type": "stream",
     "text": [
      "retrying ...1secs\n",
      "retrying ...1secs\n",
      "retrying ...1secs\n",
      "retrying ...2secs\n",
      "retrying ...3secs\n",
      "retrying ...4secs\n",
      "retrying ...5secs\n",
      "retrying ...1secs\n",
      "retrying ...1secs\n",
      "retrying ...1secs\n",
      "retrying ...1secs\n",
      "retrying ...1secs\n",
      "retrying ...1secs\n",
      "retrying ...1secs\n",
      "retrying ...1secs\n",
      "retrying ...1secs\n",
      "retrying ...1secs\n",
      "retrying ...1secs\n",
      "retrying ...2secs\n",
      "retrying ...1secs\n",
      "retrying ...1secs\n",
      "retrying ...2secs\n",
      "retrying ...1secs\n",
      "retrying ...2secs\n",
      "retrying ...1secs\n",
      "retrying ...1secs\n",
      "retrying ...1secs\n",
      "retrying ...1secs\n",
      "retrying ...2secs\n",
      "retrying ...3secs\n",
      "retrying ...4secs\n",
      "retrying ...5secs\n",
      "retrying ...1secs\n",
      "retrying ...1secs\n",
      "retrying ...1secs\n",
      "retrying ...2secs\n"
     ]
    }
   ],
   "source": [
    "num_bars = []\n",
    "num_sections = []\n",
    "num_segments = []\n",
    "\n",
    "for i in range(0,len(features_df['id'])):\n",
    "    analysis = sp.audio_analysis(features_df.iloc[i]['id'])\n",
    "    num_bars.append(len(analysis['bars'])) # beats/time_signature\n",
    "    num_sections.append(len(analysis['sections']))\n",
    "    num_segments.append(len(analysis['segments']))"
   ]
  },
  {
   "cell_type": "markdown",
   "metadata": {},
   "source": [
    "Visualizing the **audio options** to learn more about them."
   ]
  },
  {
   "cell_type": "code",
   "execution_count": 36,
   "metadata": {},
   "outputs": [
    {
     "data": {
      "text/plain": [
       "Text(0.5, 0, 'num_segments')"
      ]
     },
     "execution_count": 36,
     "metadata": {},
     "output_type": "execute_result"
    },
    {
     "data": {
      "image/png": "[encoded data removed]",
      "text/plain": [
       "<Figure size 1152x288 with 3 Axes>"
      ]
     },
     "metadata": {
      "needs_background": "light"
     },
     "output_type": "display_data"
    }
   ],
   "source": [
    "plt.figure(figsize=(16,4))\n",
    "plt.subplot(1,3,1)\n",
    "plt.hist(num_bars, bins=20)\n",
    "plt.xlabel('num_bars')\n",
    "plt.subplot(1,3,2)\n",
    "plt.hist(num_sections, bins=20)\n",
    "plt.xlabel('num_sections')\n",
    "plt.subplot(1,3,3)\n",
    "plt.hist(num_segments, bins=20)\n",
    "plt.xlabel('num_segments')"
   ]
  },
  {
   "cell_type": "markdown",
   "metadata": {},
   "source": [
    "Now we will add these audio features to our existing dataframe which will enhance our dataset."
   ]
  },
  {
   "cell_type": "code",
   "execution_count": 37,
   "metadata": {},
   "outputs": [
    {
     "data": {
      "text/html": [
       "<div>\n",
       "<style scoped>\n",
       "    .dataframe tbody tr th:only-of-type {\n",
       "        vertical-align: middle;\n",
       "    }\n",
       "\n",
       "    .dataframe tbody tr th {\n",
       "        vertical-align: top;\n",
       "    }\n",
       "\n",
       "    .dataframe thead th {\n",
       "        text-align: right;\n",
       "    }\n",
       "</style>\n",
       "<table border=\"1\" class=\"dataframe\">\n",
       "  <thead>\n",
       "    <tr style=\"text-align: right;\">\n",
       "      <th></th>\n",
       "      <th>id</th>\n",
       "      <th>title</th>\n",
       "      <th>first_artist</th>\n",
       "      <th>all_artists</th>\n",
       "      <th>danceability</th>\n",
       "      <th>energy</th>\n",
       "      <th>key</th>\n",
       "      <th>loudness</th>\n",
       "      <th>mode</th>\n",
       "      <th>acousticness</th>\n",
       "      <th>instrumentalness</th>\n",
       "      <th>liveness</th>\n",
       "      <th>valence</th>\n",
       "      <th>tempo</th>\n",
       "      <th>duration_ms</th>\n",
       "      <th>time_signature</th>\n",
       "      <th>num_bars</th>\n",
       "      <th>num_sections</th>\n",
       "      <th>num_segments</th>\n",
       "    </tr>\n",
       "  </thead>\n",
       "  <tbody>\n",
       "    <tr>\n",
       "      <th>0</th>\n",
       "      <td>3h4T9Bg8OVSUYa6danHeH5</td>\n",
       "      <td>Animals</td>\n",
       "      <td>Maroon 5</td>\n",
       "      <td>[Maroon 5]</td>\n",
       "      <td>0.279</td>\n",
       "      <td>0.742</td>\n",
       "      <td>4</td>\n",
       "      <td>-6.460</td>\n",
       "      <td>0</td>\n",
       "      <td>0.000185</td>\n",
       "      <td>0.000000</td>\n",
       "      <td>0.5930</td>\n",
       "      <td>0.328</td>\n",
       "      <td>189.868</td>\n",
       "      <td>231013</td>\n",
       "      <td>4</td>\n",
       "      <td>162</td>\n",
       "      <td>11</td>\n",
       "      <td>921</td>\n",
       "    </tr>\n",
       "    <tr>\n",
       "      <th>1</th>\n",
       "      <td>4pbJqGIASGPr0ZpGpnWkDn</td>\n",
       "      <td>We Will Rock You - Remastered</td>\n",
       "      <td>Queen</td>\n",
       "      <td>[Queen]</td>\n",
       "      <td>0.692</td>\n",
       "      <td>0.497</td>\n",
       "      <td>2</td>\n",
       "      <td>-7.316</td>\n",
       "      <td>1</td>\n",
       "      <td>0.676000</td>\n",
       "      <td>0.000000</td>\n",
       "      <td>0.2590</td>\n",
       "      <td>0.475</td>\n",
       "      <td>81.308</td>\n",
       "      <td>122067</td>\n",
       "      <td>4</td>\n",
       "      <td>42</td>\n",
       "      <td>6</td>\n",
       "      <td>353</td>\n",
       "    </tr>\n",
       "    <tr>\n",
       "      <th>2</th>\n",
       "      <td>6b3b7lILUJqXcp6w9wNQSm</td>\n",
       "      <td>Cheap Thrills</td>\n",
       "      <td>Sia</td>\n",
       "      <td>[Sia, Sean Paul]</td>\n",
       "      <td>0.592</td>\n",
       "      <td>0.800</td>\n",
       "      <td>6</td>\n",
       "      <td>-4.931</td>\n",
       "      <td>0</td>\n",
       "      <td>0.056100</td>\n",
       "      <td>0.000002</td>\n",
       "      <td>0.0775</td>\n",
       "      <td>0.728</td>\n",
       "      <td>89.972</td>\n",
       "      <td>224813</td>\n",
       "      <td>4</td>\n",
       "      <td>83</td>\n",
       "      <td>8</td>\n",
       "      <td>914</td>\n",
       "    </tr>\n",
       "    <tr>\n",
       "      <th>3</th>\n",
       "      <td>2tpWsVSb9UEmDRxAl1zhX1</td>\n",
       "      <td>Counting Stars</td>\n",
       "      <td>OneRepublic</td>\n",
       "      <td>[OneRepublic]</td>\n",
       "      <td>0.664</td>\n",
       "      <td>0.705</td>\n",
       "      <td>1</td>\n",
       "      <td>-4.972</td>\n",
       "      <td>0</td>\n",
       "      <td>0.065400</td>\n",
       "      <td>0.000000</td>\n",
       "      <td>0.1180</td>\n",
       "      <td>0.477</td>\n",
       "      <td>122.016</td>\n",
       "      <td>257267</td>\n",
       "      <td>4</td>\n",
       "      <td>129</td>\n",
       "      <td>8</td>\n",
       "      <td>1001</td>\n",
       "    </tr>\n",
       "    <tr>\n",
       "      <th>4</th>\n",
       "      <td>1zB4vmk8tFRmM9UULNzbLB</td>\n",
       "      <td>Thunder</td>\n",
       "      <td>Imagine Dragons</td>\n",
       "      <td>[Imagine Dragons]</td>\n",
       "      <td>0.605</td>\n",
       "      <td>0.822</td>\n",
       "      <td>0</td>\n",
       "      <td>-4.833</td>\n",
       "      <td>1</td>\n",
       "      <td>0.006710</td>\n",
       "      <td>0.134000</td>\n",
       "      <td>0.1470</td>\n",
       "      <td>0.288</td>\n",
       "      <td>167.997</td>\n",
       "      <td>187147</td>\n",
       "      <td>4</td>\n",
       "      <td>128</td>\n",
       "      <td>10</td>\n",
       "      <td>614</td>\n",
       "    </tr>\n",
       "  </tbody>\n",
       "</table>\n",
       "</div>"
      ],
      "text/plain": [
       "                       id                          title     first_artist  \\\n",
       "0  3h4T9Bg8OVSUYa6danHeH5                        Animals         Maroon 5   \n",
       "1  4pbJqGIASGPr0ZpGpnWkDn  We Will Rock You - Remastered            Queen   \n",
       "2  6b3b7lILUJqXcp6w9wNQSm                  Cheap Thrills              Sia   \n",
       "3  2tpWsVSb9UEmDRxAl1zhX1                 Counting Stars      OneRepublic   \n",
       "4  1zB4vmk8tFRmM9UULNzbLB                        Thunder  Imagine Dragons   \n",
       "\n",
       "         all_artists  danceability  energy  key  loudness  mode  acousticness  \\\n",
       "0         [Maroon 5]         0.279   0.742    4    -6.460     0      0.000185   \n",
       "1            [Queen]         0.692   0.497    2    -7.316     1      0.676000   \n",
       "2   [Sia, Sean Paul]         0.592   0.800    6    -4.931     0      0.056100   \n",
       "3      [OneRepublic]         0.664   0.705    1    -4.972     0      0.065400   \n",
       "4  [Imagine Dragons]         0.605   0.822    0    -4.833     1      0.006710   \n",
       "\n",
       "   instrumentalness  liveness  valence    tempo  duration_ms  time_signature  \\\n",
       "0          0.000000    0.5930    0.328  189.868       231013               4   \n",
       "1          0.000000    0.2590    0.475   81.308       122067               4   \n",
       "2          0.000002    0.0775    0.728   89.972       224813               4   \n",
       "3          0.000000    0.1180    0.477  122.016       257267               4   \n",
       "4          0.134000    0.1470    0.288  167.997       187147               4   \n",
       "\n",
       "   num_bars  num_sections  num_segments  \n",
       "0       162            11           921  \n",
       "1        42             6           353  \n",
       "2        83             8           914  \n",
       "3       129             8          1001  \n",
       "4       128            10           614  "
      ]
     },
     "execution_count": 37,
     "metadata": {},
     "output_type": "execute_result"
    }
   ],
   "source": [
    "features_df['num_bars'] = num_bars\n",
    "features_df['num_sections'] = num_sections\n",
    "features_df['num_segments'] = num_segments\n",
    "features_df.head()"
   ]
  },
  {
   "cell_type": "markdown",
   "metadata": {},
   "source": [
    "The following code helps in generating **.csv** file for a playlist. This **.csv** file which contains the above dataframe information will be stored in the same folder where this **jupyter notebook** is stored. Remember to add the **.csv** extension to each file. \n",
    "\n",
    "<h3>Creating Large Dataset</h3>\n",
    "\n",
    "The below csv file will consist the information of only single playlist whose index was provided initially, to execute it for multiple playlists, you can use a **for loop** and can run over each playlist and thus creating a large dataset. \n",
    "\n",
    "So for all the URI's provided in the **playlists.like_dislike.json** file, you will be having a new .csv file with the information of the particular playlist in it. In this way you can build a large dataset of **.csv** files."
   ]
  },
  {
   "cell_type": "code",
   "execution_count": 38,
   "metadata": {},
   "outputs": [],
   "source": [
    "features_df.to_csv(\"playlist_\" + str(playlist_index) + \".csv\", encoding='utf-8',index=\"false\")"
   ]
  },
  {
   "cell_type": "markdown",
   "metadata": {},
   "source": [
    "# Conclusion\n",
    "\n",
    "So we have reached at the endpoint of this interactive article on Web Scraping. In this article, we learned how to scrape playlist information of different users with the help of **Spotify Web API**, known as **Spotipy**. We fetched each and every audio feature available for the tracks. This article also covered how we can create a dataset of playlists and its tracks information. For exploring more and understanding the deeper details of spotipy, you can refer the below mentioned links.\n",
    "\n",
    "<a href=\"https://developer.spotify.com/documentation/web-api/\">Web API Spotipy</a>\n",
    "\n",
    "<a href=\"https://spotipy.readthedocs.io/en/2.9.0/\">Spotipy Official Documentation</a>"
   ]
  },
  {
   "cell_type": "markdown",
   "metadata": {},
   "source": [
    "### Glossary - Web Scraping \n",
    "\n",
    "It is the process of extracting data from websites for creating large datasets which can be stored on our local computer or in a database. There are various ways of performing Web Scraping. It can be done through automated tools like **Scrapy, Selenium web driver**. The other method is by using **individual websites web API** and sometimes we can also build **custom web scraper** for a website by analysing the html code of the webpage(Page from where data is scraped)."
   ]
  },
  {
   "cell_type": "code",
   "execution_count": null,
   "metadata": {},
   "outputs": [],
   "source": []
  }
 ],
 "metadata": {
  "kernelspec": {
   "display_name": "Python 3",
   "language": "python",
   "name": "python3"
  },
  "language_info": {
   "codemirror_mode": {
    "name": "ipython",
    "version": 3
   },
   "file_extension": ".py",
   "mimetype": "text/x-python",
   "name": "python",
   "nbconvert_exporter": "python",
   "pygments_lexer": "ipython3",
   "version": "3.7.3"
  }
 },
 "nbformat": 4,
 "nbformat_minor": 2
}
