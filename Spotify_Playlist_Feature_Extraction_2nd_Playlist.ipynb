{
 "cells": [
  {
   "cell_type": "markdown",
   "metadata": {},
   "source": [
    "<h1><center>Spotify Data Scraping</center></h1>\n",
    "\n",
    "In this article, we will learn about {Glossary- **Web scraping**}. To accomplish this task, we will use the very popular music streaming app Spotify. During this article, we will learn how to **scrape data from Spotify**. Our aim through this  hands-on experience of web scraping is to **fetch the information of all the tracks in spotify playlists**. We can obtain the information of tracks of any playlist, we only need to have **URI (Uniform Resource Identifier) of a playlist**. \n",
    "\n",
    "This scraping will be facilitated by the <b>Web API of Spotify</b>, known as **Spotipy**.\n",
    "\n",
    "For availing the services of **spotipy**, user requires two credential keys, which are **credential_id** and **credential_secret**. These two keys are unique for each user and helps spotify in identifying the users of their Web API. In the following part of this article, I will walkthrough the steps on how to create these two unique keys through spotify developers account with the help of screenshots.\n",
    "\n",
    "\n",
    "<h2>Generating Authorizing Keys</h2>\n",
    "\n",
    "<ul>\n",
    "    <h3>Step 1: Creating Spotify Developers Account</h3><br><br>\n",
    "    <center><img src=\"image_1.png\" height=600 width=600><br><br></center>\n",
    "    <center>---------------------------------------------------------------------</center>\n",
    "    <center><img src=\"image_2.png\" height=400 width=400><br><br></center>\n",
    "    <center>---------------------------------------------------------------------</center>\n",
    "    <center><img src=\"image_3.png\" height=400 width=400><br><br></center>\n",
    "    <center>---------------------------------------------------------------------</center>\n",
    "    For creating an account on <a href=\"https://developer.spotify.com/dashboard/\">spotify developers website</a>, you can either use your existing spotify account which you use for listening music, otherwise you can sign up using your facebook account or through your mail id.\n",
    "    \n",
    "   <h3>Step 2: Creating a New App</h3>\n",
    "   After creating the account and logging in, you will find a screen as shown below.\n",
    "   <img src=\"image_4.png\" height=600 width=600><br><br>\n",
    "   <center>---------------------------------------------------------------------</center>\n",
    "   The next thing which we have to do is to create a new app by either clicking on <b>create client id</b> button or by clicking on <b>create new app</b> button. \n",
    "   <img src=\"image_5.png\" height=200 width=200><br><br>\n",
    "   After this, spotify asks some basic questions regarding our new app. After this, you have to tell Spotify whether you will use the app for any monetary advantages i.e. whether the app is commerical or not. It is advised to choose the non-commerical option. Lastly, we need to agree to some permissions and agreements.\n",
    "   <img src=\"image_6.png\" height=250 width=250><br><br>\n",
    "   <center>---------------------------------------------------------------------</center>\n",
    "   <img src=\"image_7.png\" height=250 width=250><br><br>\n",
    "   <center>---------------------------------------------------------------------</center>\n",
    "   \n",
    "   <h3>Step 3: Obtaining Client Id and Client Secret Keys</h3>\n",
    "   <img src=\"image_8.png\" height=800 width=800><br><br>\n",
    "   <center>---------------------------------------------------------------------</center>\n",
    "   Once the app is created, we will be able to see a dashboard where along with the name of our app and description, below the description we will find <b>32 character long alphanumeric</b> <b>Client Id</b> and below this will get the 32 character long alphanumeric <b>Client Secret</b>. So this was the aim of the walkthrough, we have obtained the two keys required for authorizing the usage of spotify Web API.\n",
    "\n",
    "</ul>\n",
    "\n",
    "**NOTE** - Remember not to use the keys visible in the above image, as mentioned earlier these are unique keys and thus you'll be required to create them for your app, otherwise you may encounter error.\n",
    "\n",
    "Now it's time to start our hands-on practical example where we will **fetch the playlists data and track information using spotipy**. \n",
    "\n",
    "## Importing libraries and authorization credentials\n",
    "Initially, we need to load the necessary libraries and credential files. "
   ]
  },
  {
   "cell_type": "code",
   "execution_count": 1,
   "metadata": {},
   "outputs": [],
   "source": [
    "import spotipy\n",
    "from spotipy.oauth2 import SpotifyClientCredentials\n",
    "import json"
   ]
  },
  {
   "cell_type": "markdown",
   "metadata": {},
   "source": [
    "For better access to credential keys, We will load these **authorizational keys in a .json file, simplifying the process of fetching**. \n",
    "\n",
    "Below code shows how you can add the two keys in the **authorization.json** file."
   ]
  },
  {
   "cell_type": "markdown",
   "metadata": {},
   "source": [
    "#### Contents of Authorization.json\n",
    "\n",
    "Remember the below keys are for represential purpose, you are required to create your own client id and client secret on the spotify developers account."
   ]
  },
  {
   "cell_type": "code",
   "execution_count": 2,
   "metadata": {},
   "outputs": [
    {
     "data": {
      "text/plain": [
       "{'client_id': '5e9a80618b284145b54bb1f7df94bb6c',\n",
       " 'client_secret': '0cdef7160e4143118e48abdd939668e8'}"
      ]
     },
     "execution_count": 2,
     "metadata": {},
     "output_type": "execute_result"
    }
   ],
   "source": [
    "{\"client_id\": \"5e9a80618b284145b54bb1f7df94bb6c\",\n",
    "\"client_secret\": \"0cdef7160e4143118e48abdd939668e8\"}"
   ]
  },
  {
   "cell_type": "markdown",
   "metadata": {},
   "source": [
    "In another  **playlists_like_dislike.json** file, We have mentioned the **URI (Uniform Resource Identifier)** of the playlists. This file will help in managing the URI of multiple playlists. As informed earlier, URI helps in identifying different playlists on spotify.\n",
    "\n",
    "One of the features of **playlists_like_dislike.json** file is the **like** attribute which takes boolean value. Using this boolean value, we can tell which **playlists songs a user likes or dislikes**. If **true**, the user **likes all the songs** of playlist and if **false**, the user **dislikes all the songs** of playlist. \n",
    "\n",
    "We can see below how the playlists URI should be mentioned along with the **like** parameter.\n",
    "\n",
    "**NOTE** - You can fetch data of upto **99 songs in a single connection session**. Now these 99 songs can be divided into different playlists or can be present in a single playlist. If you will try to fetch information of more than 99 songs in a single connection session, then you will encounter error and you will not be able to fetch the data, as per Spotify's policy."
   ]
  },
  {
   "cell_type": "markdown",
   "metadata": {},
   "source": [
    "#### Contents of Playlists_like_dislike.json \n",
    "\n",
    "[\n",
    "    {\"uri\": \"spotify:user:Test_1:playlist:27rVIOLKlIKAg63whXrAzz\",\n",
    "    \"like\": true},\n",
    "    {\"uri\": \"spotify:user:Test_2:playlist:6WjtPvXBC2iSO24VsfBpnc\",\n",
    "    \"like\": false}\n",
    "]"
   ]
  },
  {
   "cell_type": "markdown",
   "metadata": {},
   "source": [
    "<img src=\"image_9a.png\" height=600 width=600><br><br>\n",
    "<center>---------------------------------------------------------------------</center>\n",
    "\n",
    "In the above image, you can see the location from where you can obtain the URI of a particular playlist, in case of **Spotify desktop app**. You have to click at these three dots and then you can copy the URI of desired playlist. Here playlist link and Spotify URI contain the same link. So you can copy any of these. The URI is **20 character long alphanumeric code** which is present at the end of the link.\n",
    "\n",
    "The below image is an example of web app of Spotify, so if you are using the web app, then you will see something as shown below.\n",
    "\n",
    "<img src=\"image_10.png\" height=600 width=600><br><br>\n",
    "<center>---------------------------------------------------------------------</center>\n",
    "\n",
    "This URI will help while communicating with spotify API and also in fetching the correct information of the songs present in the playlists.\n",
    "\n",
    "Along with this, there can be multiple playlists in a single .json file, so to access each playlist, indexing is used and here, **0th** index playlist is accessed using below code. "
   ]
  },
  {
   "cell_type": "code",
   "execution_count": 3,
   "metadata": {},
   "outputs": [],
   "source": [
    "credentials = json.load(open('authorization.json'))\n",
    "client_id = credentials['client_id']\n",
    "client_secret = credentials['client_secret']\n",
    "\n",
    "playlist_index = 1\n",
    "\n",
    "playlists = json.load(open('playlists_like_dislike.json'))\n",
    "playlist_uri = playlists[playlist_index]['uri']\n",
    "like = playlists[playlist_index]['like']"
   ]
  },
  {
   "cell_type": "code",
   "execution_count": 4,
   "metadata": {},
   "outputs": [],
   "source": [
    "client_credentials_manager = SpotifyClientCredentials(client_id=client_id,client_secret=client_secret)\n",
    "\n",
    "sp = spotipy.Spotify(client_credentials_manager=client_credentials_manager)"
   ]
  },
  {
   "cell_type": "markdown",
   "metadata": {},
   "source": [
    "## Information of tracks in playlist\n",
    "\n",
    "For obtaining the **username and playlist_id**, we are using the **:**  as an identifier. These unique id's help in getting the tracks of each playlist."
   ]
  },
  {
   "cell_type": "code",
   "execution_count": 5,
   "metadata": {},
   "outputs": [],
   "source": [
    "uri = playlist_uri    # the URI is split by ':' to get the username and playlist ID\n",
    "username = uri.split(':')[2]\n",
    "playlist_id = uri.split(':')[4]"
   ]
  },
  {
   "cell_type": "code",
   "execution_count": 6,
   "metadata": {},
   "outputs": [],
   "source": [
    "results = sp.user_playlist(username, playlist_id, 'tracks')"
   ]
  },
  {
   "cell_type": "markdown",
   "metadata": {},
   "source": [
    "## Fetching details of track like ID's, Titles and Artists\n",
    "\n",
    "Here data for each playlist is collected in the form of dictionary. The keys of this dictionary contains track information. We will use **list datatype for adding data like ID's, Titles and Artists.** \n",
    "\n",
    "Artists mentioned are the primary artists in the each track.\n",
    "\n",
    "In the below mentioned **for** loop, we are going over each track of a playlist and adding the track Id, name and artist information to the dataframe of tracks."
   ]
  },
  {
   "cell_type": "code",
   "execution_count": 7,
   "metadata": {},
   "outputs": [],
   "source": [
    "playlist_tracks_data = results['tracks']\n",
    "playlist_tracks_id = []\n",
    "playlist_tracks_titles = []\n",
    "playlist_tracks_artists = []\n",
    "playlist_tracks_first_artists = []\n",
    "\n",
    "for track in playlist_tracks_data['items']:\n",
    "    playlist_tracks_id.append(track['track']['id'])\n",
    "    playlist_tracks_titles.append(track['track']['name'])\n",
    "    # adds a list of all artists involved in the song to the list of artists for the playlist\n",
    "    artist_list = []\n",
    "    for artist in track['track']['artists']:\n",
    "        artist_list.append(artist['name'])\n",
    "    playlist_tracks_artists.append(artist_list)\n",
    "    playlist_tracks_first_artists.append(artist_list[0])"
   ]
  },
  {
   "cell_type": "markdown",
   "metadata": {},
   "source": [
    "## Extracting Audio Features of each track\n",
    "\n",
    "Spotify has a unique attribute of providing information about the features of song available on their platform. There are various features like danceability, energy, tempo, and many more. You can have a look at them <a href=\"https://developer.spotify.com/documentation/web-api/reference/tracks/get-several-audio-features/\">here</a>. After fetching these audio features, they will be stored in a dataframe."
   ]
  },
  {
   "cell_type": "code",
   "execution_count": 8,
   "metadata": {},
   "outputs": [],
   "source": [
    "features = sp.audio_features(playlist_tracks_id)"
   ]
  },
  {
   "cell_type": "code",
   "execution_count": 9,
   "metadata": {},
   "outputs": [],
   "source": [
    "import numpy as np\n",
    "import pandas as pd"
   ]
  },
  {
   "cell_type": "code",
   "execution_count": 10,
   "metadata": {},
   "outputs": [],
   "source": [
    "features_df = pd.DataFrame(data=features, columns=features[0].keys())"
   ]
  },
  {
   "cell_type": "markdown",
   "metadata": {},
   "source": [
    "## Merging Dataframes for getting audio features and track information\n",
    "\n",
    "Now the dataframe of audio features must be merged with title and artist information. We will also reorder the dataframe for better accessiblity."
   ]
  },
  {
   "cell_type": "code",
   "execution_count": 11,
   "metadata": {},
   "outputs": [
    {
     "data": {
      "text/html": [
       "<div>\n",
       "<style scoped>\n",
       "    .dataframe tbody tr th:only-of-type {\n",
       "        vertical-align: middle;\n",
       "    }\n",
       "\n",
       "    .dataframe tbody tr th {\n",
       "        vertical-align: top;\n",
       "    }\n",
       "\n",
       "    .dataframe thead th {\n",
       "        text-align: right;\n",
       "    }\n",
       "</style>\n",
       "<table border=\"1\" class=\"dataframe\">\n",
       "  <thead>\n",
       "    <tr style=\"text-align: right;\">\n",
       "      <th></th>\n",
       "      <th>id</th>\n",
       "      <th>title</th>\n",
       "      <th>first_artist</th>\n",
       "      <th>all_artists</th>\n",
       "      <th>danceability</th>\n",
       "      <th>energy</th>\n",
       "      <th>key</th>\n",
       "      <th>loudness</th>\n",
       "      <th>mode</th>\n",
       "      <th>acousticness</th>\n",
       "      <th>instrumentalness</th>\n",
       "      <th>liveness</th>\n",
       "      <th>valence</th>\n",
       "      <th>tempo</th>\n",
       "      <th>duration_ms</th>\n",
       "      <th>time_signature</th>\n",
       "    </tr>\n",
       "  </thead>\n",
       "  <tbody>\n",
       "    <tr>\n",
       "      <th>70</th>\n",
       "      <td>4eu27jAU2bbnyHUC3G75U8</td>\n",
       "      <td>Badtameez Dil</td>\n",
       "      <td>Benny Dayal</td>\n",
       "      <td>[Benny Dayal, Shefali Alvares]</td>\n",
       "      <td>0.805</td>\n",
       "      <td>0.932</td>\n",
       "      <td>2</td>\n",
       "      <td>-2.228</td>\n",
       "      <td>0</td>\n",
       "      <td>0.24000</td>\n",
       "      <td>0.00000</td>\n",
       "      <td>0.2160</td>\n",
       "      <td>0.792</td>\n",
       "      <td>106.019</td>\n",
       "      <td>252760</td>\n",
       "      <td>4</td>\n",
       "    </tr>\n",
       "    <tr>\n",
       "      <th>71</th>\n",
       "      <td>7oDykOViQGiV9M3enF7u4Y</td>\n",
       "      <td>La La La</td>\n",
       "      <td>Neha Kakkar</td>\n",
       "      <td>[Neha Kakkar, Arjun Kanungo]</td>\n",
       "      <td>0.774</td>\n",
       "      <td>0.781</td>\n",
       "      <td>10</td>\n",
       "      <td>-4.426</td>\n",
       "      <td>1</td>\n",
       "      <td>0.34100</td>\n",
       "      <td>0.00000</td>\n",
       "      <td>0.1110</td>\n",
       "      <td>0.469</td>\n",
       "      <td>100.017</td>\n",
       "      <td>192000</td>\n",
       "      <td>4</td>\n",
       "    </tr>\n",
       "    <tr>\n",
       "      <th>72</th>\n",
       "      <td>79JMjG6tj2zvCDEukCSgcx</td>\n",
       "      <td>Laung Gawacha</td>\n",
       "      <td>Nucleya</td>\n",
       "      <td>[Nucleya, Avneet Khurmi]</td>\n",
       "      <td>0.571</td>\n",
       "      <td>0.900</td>\n",
       "      <td>0</td>\n",
       "      <td>-4.855</td>\n",
       "      <td>0</td>\n",
       "      <td>0.00502</td>\n",
       "      <td>0.00916</td>\n",
       "      <td>0.0952</td>\n",
       "      <td>0.414</td>\n",
       "      <td>91.985</td>\n",
       "      <td>213913</td>\n",
       "      <td>4</td>\n",
       "    </tr>\n",
       "    <tr>\n",
       "      <th>73</th>\n",
       "      <td>5T3rp70MEW4XnWv82BDVey</td>\n",
       "      <td>Nikle Currant</td>\n",
       "      <td>Jassie Gill</td>\n",
       "      <td>[Jassie Gill, Neha Kakkar, Sukh-E Muzical Doct...</td>\n",
       "      <td>0.811</td>\n",
       "      <td>0.921</td>\n",
       "      <td>5</td>\n",
       "      <td>-3.152</td>\n",
       "      <td>0</td>\n",
       "      <td>0.18200</td>\n",
       "      <td>0.00000</td>\n",
       "      <td>0.8230</td>\n",
       "      <td>0.756</td>\n",
       "      <td>94.980</td>\n",
       "      <td>212925</td>\n",
       "      <td>4</td>\n",
       "    </tr>\n",
       "    <tr>\n",
       "      <th>74</th>\n",
       "      <td>01X09TTUbyJWQPlv28gUss</td>\n",
       "      <td>Prada</td>\n",
       "      <td>Jass Manak</td>\n",
       "      <td>[Jass Manak]</td>\n",
       "      <td>0.721</td>\n",
       "      <td>0.650</td>\n",
       "      <td>9</td>\n",
       "      <td>-5.426</td>\n",
       "      <td>0</td>\n",
       "      <td>0.03610</td>\n",
       "      <td>0.00000</td>\n",
       "      <td>0.3580</td>\n",
       "      <td>0.502</td>\n",
       "      <td>156.008</td>\n",
       "      <td>182115</td>\n",
       "      <td>4</td>\n",
       "    </tr>\n",
       "  </tbody>\n",
       "</table>\n",
       "</div>"
      ],
      "text/plain": [
       "                        id          title first_artist  \\\n",
       "70  4eu27jAU2bbnyHUC3G75U8  Badtameez Dil  Benny Dayal   \n",
       "71  7oDykOViQGiV9M3enF7u4Y       La La La  Neha Kakkar   \n",
       "72  79JMjG6tj2zvCDEukCSgcx  Laung Gawacha      Nucleya   \n",
       "73  5T3rp70MEW4XnWv82BDVey  Nikle Currant  Jassie Gill   \n",
       "74  01X09TTUbyJWQPlv28gUss          Prada   Jass Manak   \n",
       "\n",
       "                                          all_artists  danceability  energy  \\\n",
       "70                     [Benny Dayal, Shefali Alvares]         0.805   0.932   \n",
       "71                       [Neha Kakkar, Arjun Kanungo]         0.774   0.781   \n",
       "72                           [Nucleya, Avneet Khurmi]         0.571   0.900   \n",
       "73  [Jassie Gill, Neha Kakkar, Sukh-E Muzical Doct...         0.811   0.921   \n",
       "74                                       [Jass Manak]         0.721   0.650   \n",
       "\n",
       "    key  loudness  mode  acousticness  instrumentalness  liveness  valence  \\\n",
       "70    2    -2.228     0       0.24000           0.00000    0.2160    0.792   \n",
       "71   10    -4.426     1       0.34100           0.00000    0.1110    0.469   \n",
       "72    0    -4.855     0       0.00502           0.00916    0.0952    0.414   \n",
       "73    5    -3.152     0       0.18200           0.00000    0.8230    0.756   \n",
       "74    9    -5.426     0       0.03610           0.00000    0.3580    0.502   \n",
       "\n",
       "      tempo  duration_ms  time_signature  \n",
       "70  106.019       252760               4  \n",
       "71  100.017       192000               4  \n",
       "72   91.985       213913               4  \n",
       "73   94.980       212925               4  \n",
       "74  156.008       182115               4  "
      ]
     },
     "execution_count": 11,
     "metadata": {},
     "output_type": "execute_result"
    }
   ],
   "source": [
    "features_df['title'] = playlist_tracks_titles\n",
    "features_df['first_artist'] = playlist_tracks_first_artists\n",
    "features_df['all_artists'] = playlist_tracks_artists\n",
    "#features_df = features_df.set_index('id')\n",
    "features_df = features_df[['id', 'title', 'first_artist', 'all_artists',\n",
    "                           'danceability', 'energy', 'key', 'loudness',\n",
    "                           'mode', 'acousticness', 'instrumentalness',\n",
    "                           'liveness', 'valence', 'tempo',\n",
    "                           'duration_ms', 'time_signature']]\n",
    "features_df.tail()"
   ]
  },
  {
   "cell_type": "markdown",
   "metadata": {},
   "source": [
    "## Data Exploration\n",
    "\n",
    "To understand the scraped data in a better way, we will perform **data exploration with the help of visualization**."
   ]
  },
  {
   "cell_type": "code",
   "execution_count": 12,
   "metadata": {},
   "outputs": [],
   "source": [
    "import matplotlib.pyplot as plt\n",
    "import seaborn as sns\n",
    "%matplotlib inline"
   ]
  },
  {
   "cell_type": "markdown",
   "metadata": {},
   "source": [
    "The following **count plot** will tell which **artists have most number of songs** in the playlist."
   ]
  },
  {
   "cell_type": "code",
   "execution_count": 13,
   "metadata": {},
   "outputs": [
    {
     "data": {
      "text/plain": [
       "(array([ 0,  1,  2,  3,  4,  5,  6,  7,  8,  9, 10, 11, 12, 13, 14, 15, 16,\n",
       "        17, 18, 19, 20, 21, 22, 23, 24, 25, 26, 27, 28, 29, 30, 31, 32, 33,\n",
       "        34, 35, 36, 37, 38, 39, 40, 41, 42, 43, 44, 45, 46, 47, 48, 49, 50]),\n",
       " <a list of 51 Text xticklabel objects>)"
      ]
     },
     "execution_count": 13,
     "metadata": {},
     "output_type": "execute_result"
    },
    {
     "data": {
      "image/png": "[encoded data removed]",
      "text/plain": [
       "<Figure size 1440x2160 with 1 Axes>"
      ]
     },
     "metadata": {
      "needs_background": "light"
     },
     "output_type": "display_data"
    }
   ],
   "source": [
    "plt.figure(figsize=(20,30))\n",
    "sns.countplot(features_df['first_artist'])\n",
    "plt.xticks(rotation=90)"
   ]
  },
  {
   "cell_type": "code",
   "execution_count": 14,
   "metadata": {},
   "outputs": [],
   "source": [
    "#features_df = features_df.drop(['first_artist', 'all_artists'], axis=1)"
   ]
  },
  {
   "cell_type": "markdown",
   "metadata": {},
   "source": [
    "## Spotify Audio Analysis\n",
    "\n",
    "Spotify provides the feature where a song can be analysed on the basis of bars, beats, sections, tatum and segments in the song. You can learn more about these attributes from <a href=\"https://developer.spotify.com/documentation/web-api/reference/tracks/get-audio-analysis/\">here</a>.Since beats and tatums represent the same information in scaled form depicted by bars, we will only consider bars, sections and segments. \n",
    "\n",
    "**NOTE** - These attributes of each audio track provides in-depth technical information and thus it takes time in processing and fetching. So some time will be spent here in fetching all the information. The output **retrying ...** is the default message displayed by Spotipy for informing the user."
   ]
  },
  {
   "cell_type": "code",
   "execution_count": 15,
   "metadata": {},
   "outputs": [
    {
     "name": "stdout",
     "output_type": "stream",
     "text": [
      "retrying ...1secs\n",
      "retrying ...2secs\n",
      "retrying ...1secs\n",
      "retrying ...1secs\n",
      "retrying ...1secs\n",
      "retrying ...1secs\n",
      "retrying ...2secs\n",
      "retrying ...1secs\n",
      "retrying ...1secs\n",
      "retrying ...1secs\n",
      "retrying ...1secs\n",
      "retrying ...1secs\n",
      "retrying ...1secs\n",
      "retrying ...2secs\n",
      "retrying ...1secs\n",
      "retrying ...2secs\n",
      "retrying ...1secs\n",
      "retrying ...1secs\n",
      "retrying ...1secs\n"
     ]
    }
   ],
   "source": [
    "num_bars = []\n",
    "num_sections = []\n",
    "num_segments = []\n",
    "\n",
    "for i in range(0,len(features_df['id'])):\n",
    "    analysis = sp.audio_analysis(features_df.iloc[i]['id'])\n",
    "    num_bars.append(len(analysis['bars'])) # beats/time_signature\n",
    "    num_sections.append(len(analysis['sections']))\n",
    "    num_segments.append(len(analysis['segments']))"
   ]
  },
  {
   "cell_type": "markdown",
   "metadata": {},
   "source": [
    "Visualizing the **audio options** to learn more about them."
   ]
  },
  {
   "cell_type": "code",
   "execution_count": 16,
   "metadata": {},
   "outputs": [
    {
     "data": {
      "text/plain": [
       "Text(0.5, 0, 'num_segments')"
      ]
     },
     "execution_count": 16,
     "metadata": {},
     "output_type": "execute_result"
    },
    {
     "data": {
      "image/png": "[encoded data removed]",
      "text/plain": [
       "<Figure size 1152x288 with 3 Axes>"
      ]
     },
     "metadata": {
      "needs_background": "light"
     },
     "output_type": "display_data"
    }
   ],
   "source": [
    "plt.figure(figsize=(16,4))\n",
    "plt.subplot(1,3,1)\n",
    "plt.hist(num_bars, bins=20)\n",
    "plt.xlabel('num_bars')\n",
    "plt.subplot(1,3,2)\n",
    "plt.hist(num_sections, bins=20)\n",
    "plt.xlabel('num_sections')\n",
    "plt.subplot(1,3,3)\n",
    "plt.hist(num_segments, bins=20)\n",
    "plt.xlabel('num_segments')"
   ]
  },
  {
   "cell_type": "markdown",
   "metadata": {},
   "source": [
    "Now we will add these audio features to our existing dataframe which will enhance our dataset."
   ]
  },
  {
   "cell_type": "code",
   "execution_count": 17,
   "metadata": {},
   "outputs": [
    {
     "data": {
      "text/html": [
       "<div>\n",
       "<style scoped>\n",
       "    .dataframe tbody tr th:only-of-type {\n",
       "        vertical-align: middle;\n",
       "    }\n",
       "\n",
       "    .dataframe tbody tr th {\n",
       "        vertical-align: top;\n",
       "    }\n",
       "\n",
       "    .dataframe thead th {\n",
       "        text-align: right;\n",
       "    }\n",
       "</style>\n",
       "<table border=\"1\" class=\"dataframe\">\n",
       "  <thead>\n",
       "    <tr style=\"text-align: right;\">\n",
       "      <th></th>\n",
       "      <th>id</th>\n",
       "      <th>title</th>\n",
       "      <th>first_artist</th>\n",
       "      <th>all_artists</th>\n",
       "      <th>danceability</th>\n",
       "      <th>energy</th>\n",
       "      <th>key</th>\n",
       "      <th>loudness</th>\n",
       "      <th>mode</th>\n",
       "      <th>acousticness</th>\n",
       "      <th>instrumentalness</th>\n",
       "      <th>liveness</th>\n",
       "      <th>valence</th>\n",
       "      <th>tempo</th>\n",
       "      <th>duration_ms</th>\n",
       "      <th>time_signature</th>\n",
       "      <th>num_bars</th>\n",
       "      <th>num_sections</th>\n",
       "      <th>num_segments</th>\n",
       "    </tr>\n",
       "  </thead>\n",
       "  <tbody>\n",
       "    <tr>\n",
       "      <th>0</th>\n",
       "      <td>7oRA6vzbUl5brLK7GDcKOJ</td>\n",
       "      <td>Fikar Not (From \"Chhichhore\")</td>\n",
       "      <td>Nakash Aziz</td>\n",
       "      <td>[Nakash Aziz, Dev Negi, Amit Mishra, Amitabh B...</td>\n",
       "      <td>0.608</td>\n",
       "      <td>0.848</td>\n",
       "      <td>5</td>\n",
       "      <td>-6.826</td>\n",
       "      <td>0</td>\n",
       "      <td>0.3750</td>\n",
       "      <td>0.001800</td>\n",
       "      <td>0.0580</td>\n",
       "      <td>0.869</td>\n",
       "      <td>185.884</td>\n",
       "      <td>189073</td>\n",
       "      <td>3</td>\n",
       "      <td>191</td>\n",
       "      <td>10</td>\n",
       "      <td>903</td>\n",
       "    </tr>\n",
       "    <tr>\n",
       "      <th>1</th>\n",
       "      <td>5cgKosPPj5Cs9a2JQufUc1</td>\n",
       "      <td>Ilahi</td>\n",
       "      <td>Arijit Singh</td>\n",
       "      <td>[Arijit Singh]</td>\n",
       "      <td>0.594</td>\n",
       "      <td>0.967</td>\n",
       "      <td>9</td>\n",
       "      <td>-5.767</td>\n",
       "      <td>1</td>\n",
       "      <td>0.1660</td>\n",
       "      <td>0.000025</td>\n",
       "      <td>0.1050</td>\n",
       "      <td>0.452</td>\n",
       "      <td>132.009</td>\n",
       "      <td>228982</td>\n",
       "      <td>4</td>\n",
       "      <td>124</td>\n",
       "      <td>11</td>\n",
       "      <td>899</td>\n",
       "    </tr>\n",
       "    <tr>\n",
       "      <th>2</th>\n",
       "      <td>5fXslGZPI5Cco6PKHzlSL3</td>\n",
       "      <td>Illegal Weapon 2.0 (From \"Street Dancer 3D\")</td>\n",
       "      <td>Jasmine Sandlas</td>\n",
       "      <td>[Jasmine Sandlas, Garry Sandhu, Tanishk Bagchi...</td>\n",
       "      <td>0.805</td>\n",
       "      <td>0.919</td>\n",
       "      <td>1</td>\n",
       "      <td>-1.294</td>\n",
       "      <td>1</td>\n",
       "      <td>0.1010</td>\n",
       "      <td>0.003430</td>\n",
       "      <td>0.0598</td>\n",
       "      <td>0.494</td>\n",
       "      <td>94.993</td>\n",
       "      <td>188606</td>\n",
       "      <td>4</td>\n",
       "      <td>72</td>\n",
       "      <td>9</td>\n",
       "      <td>895</td>\n",
       "    </tr>\n",
       "    <tr>\n",
       "      <th>3</th>\n",
       "      <td>06wTXKpDMrSp5OfB7MErpx</td>\n",
       "      <td>Befikra</td>\n",
       "      <td>Meet Bros.</td>\n",
       "      <td>[Meet Bros., Aditi Singh Sharma]</td>\n",
       "      <td>0.600</td>\n",
       "      <td>0.979</td>\n",
       "      <td>10</td>\n",
       "      <td>-3.513</td>\n",
       "      <td>1</td>\n",
       "      <td>0.1380</td>\n",
       "      <td>0.000000</td>\n",
       "      <td>0.1000</td>\n",
       "      <td>0.453</td>\n",
       "      <td>137.064</td>\n",
       "      <td>351579</td>\n",
       "      <td>4</td>\n",
       "      <td>200</td>\n",
       "      <td>20</td>\n",
       "      <td>1443</td>\n",
       "    </tr>\n",
       "    <tr>\n",
       "      <th>4</th>\n",
       "      <td>6gbZvxPMHrpIA8RAscDO9D</td>\n",
       "      <td>Jigra</td>\n",
       "      <td>Shashwat Sachdev</td>\n",
       "      <td>[Shashwat Sachdev, Siddharth Basrur]</td>\n",
       "      <td>0.712</td>\n",
       "      <td>0.655</td>\n",
       "      <td>8</td>\n",
       "      <td>-7.813</td>\n",
       "      <td>1</td>\n",
       "      <td>0.0694</td>\n",
       "      <td>0.000000</td>\n",
       "      <td>0.1030</td>\n",
       "      <td>0.145</td>\n",
       "      <td>99.978</td>\n",
       "      <td>240000</td>\n",
       "      <td>4</td>\n",
       "      <td>98</td>\n",
       "      <td>10</td>\n",
       "      <td>1017</td>\n",
       "    </tr>\n",
       "  </tbody>\n",
       "</table>\n",
       "</div>"
      ],
      "text/plain": [
       "                       id                                         title  \\\n",
       "0  7oRA6vzbUl5brLK7GDcKOJ                 Fikar Not (From \"Chhichhore\")   \n",
       "1  5cgKosPPj5Cs9a2JQufUc1                                         Ilahi   \n",
       "2  5fXslGZPI5Cco6PKHzlSL3  Illegal Weapon 2.0 (From \"Street Dancer 3D\")   \n",
       "3  06wTXKpDMrSp5OfB7MErpx                                       Befikra   \n",
       "4  6gbZvxPMHrpIA8RAscDO9D                                         Jigra   \n",
       "\n",
       "       first_artist                                        all_artists  \\\n",
       "0       Nakash Aziz  [Nakash Aziz, Dev Negi, Amit Mishra, Amitabh B...   \n",
       "1      Arijit Singh                                     [Arijit Singh]   \n",
       "2   Jasmine Sandlas  [Jasmine Sandlas, Garry Sandhu, Tanishk Bagchi...   \n",
       "3        Meet Bros.                   [Meet Bros., Aditi Singh Sharma]   \n",
       "4  Shashwat Sachdev               [Shashwat Sachdev, Siddharth Basrur]   \n",
       "\n",
       "   danceability  energy  key  loudness  mode  acousticness  instrumentalness  \\\n",
       "0         0.608   0.848    5    -6.826     0        0.3750          0.001800   \n",
       "1         0.594   0.967    9    -5.767     1        0.1660          0.000025   \n",
       "2         0.805   0.919    1    -1.294     1        0.1010          0.003430   \n",
       "3         0.600   0.979   10    -3.513     1        0.1380          0.000000   \n",
       "4         0.712   0.655    8    -7.813     1        0.0694          0.000000   \n",
       "\n",
       "   liveness  valence    tempo  duration_ms  time_signature  num_bars  \\\n",
       "0    0.0580    0.869  185.884       189073               3       191   \n",
       "1    0.1050    0.452  132.009       228982               4       124   \n",
       "2    0.0598    0.494   94.993       188606               4        72   \n",
       "3    0.1000    0.453  137.064       351579               4       200   \n",
       "4    0.1030    0.145   99.978       240000               4        98   \n",
       "\n",
       "   num_sections  num_segments  \n",
       "0            10           903  \n",
       "1            11           899  \n",
       "2             9           895  \n",
       "3            20          1443  \n",
       "4            10          1017  "
      ]
     },
     "execution_count": 17,
     "metadata": {},
     "output_type": "execute_result"
    }
   ],
   "source": [
    "features_df['num_bars'] = num_bars\n",
    "features_df['num_sections'] = num_sections\n",
    "features_df['num_segments'] = num_segments\n",
    "features_df.head()"
   ]
  },
  {
   "cell_type": "markdown",
   "metadata": {},
   "source": [
    "The following code helps in generating **.csv** file for a playlist. This **.csv** file which contains the above dataframe information will be stored in the same folder where this **jupyter notebook** is stored. Remember to add the **.csv** extension to each file. \n",
    "\n",
    "<h3>Creating Large Dataset</h3>\n",
    "\n",
    "The below csv file will consist the information of only single playlist whose index was provided initially, to execute it for multiple playlists, you can use a **for loop** and can run over each playlist and thus creating a large dataset. \n",
    "\n",
    "So for all the URI's provided in the **playlists.like_dislike.json** file, you will be having a new .csv file with the information of the particular playlist in it. In this way you can build a large dataset of **.csv** files."
   ]
  },
  {
   "cell_type": "code",
   "execution_count": 18,
   "metadata": {},
   "outputs": [],
   "source": [
    "features_df.to_csv(\"playlist_\" + str(playlist_index) + \".csv\", encoding='utf-8',index=\"false\")"
   ]
  },
  {
   "cell_type": "markdown",
   "metadata": {},
   "source": [
    "# Conclusion\n",
    "\n",
    "So we have reached at the endpoint of this interactive article on Web Scraping. In this article, we learned how to scrape playlist information of different users with the help of **Spotify Web API**, known as **Spotipy**. We fetched each and every audio feature available for the tracks. This article also covered how we can create a dataset of playlists and its tracks information. For exploring more and understanding the deeper details of spotipy, you can refer the below mentioned links.\n",
    "\n",
    "<a href=\"https://developer.spotify.com/documentation/web-api/\">Web API Spotipy</a>\n",
    "\n",
    "<a href=\"https://spotipy.readthedocs.io/en/2.9.0/\">Spotipy Official Documentation</a>"
   ]
  },
  {
   "cell_type": "markdown",
   "metadata": {},
   "source": [
    "### Glossary - Web Scraping \n",
    "\n",
    "It is the process of extracting data from websites for creating large datasets which can be stored on our local computer or in a database. There are various ways of performing Web Scraping. It can be done through automated tools like **Scrapy, Selenium web driver**. The other method is by using **individual websites web API** and sometimes we can also build **custom web scraper** for a website by analysing the html code of the webpage(Page from where data is scraped)."
   ]
  },
  {
   "cell_type": "code",
   "execution_count": null,
   "metadata": {},
   "outputs": [],
   "source": []
  }
 ],
 "metadata": {
  "kernelspec": {
   "display_name": "Python 3",
   "language": "python",
   "name": "python3"
  },
  "language_info": {
   "codemirror_mode": {
    "name": "ipython",
    "version": 3
   },
   "file_extension": ".py",
   "mimetype": "text/x-python",
   "name": "python",
   "nbconvert_exporter": "python",
   "pygments_lexer": "ipython3",
   "version": "3.7.3"
  }
 },
 "nbformat": 4,
 "nbformat_minor": 2
}
